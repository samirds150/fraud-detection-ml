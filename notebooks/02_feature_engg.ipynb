{
 "cells": [
  {
   "cell_type": "code",
   "execution_count": 7,
   "id": "ece30267-ecf7-4d17-baca-a7e0683a525f",
   "metadata": {},
   "outputs": [
    {
     "data": {
      "text/plain": [
       "geo_location              4991\n",
       "day_of_week               2536\n",
       "payment_method            2512\n",
       "device_type               2496\n",
       "mouse_movement_score      2467\n",
       "ip_risk_score             2451\n",
       "avg_transaction_amount    2428\n",
       "dtype: int64"
      ]
     },
     "execution_count": 7,
     "metadata": {},
     "output_type": "execute_result"
    }
   ],
   "source": [
    "import pandas as pd\n",
    "\n",
    "# Load the dataset\n",
    "df = pd.read_csv('../data/raw/enhanced_fraud_detection_dataset.csv')\n",
    "\n",
    "# Summary of missing values again (optional refresh)\n",
    "missing = df.isnull().sum()\n",
    "missing[missing > 0].sort_values(ascending=False)\n"
   ]
  },
  {
   "cell_type": "code",
   "execution_count": 8,
   "id": "ec267c6c-41df-4f0a-a5ef-8600128ff629",
   "metadata": {},
   "outputs": [],
   "source": [
    "# 1. Fill numeric columns with median\n",
    "df['mouse_movement_score'] = df['mouse_movement_score'].fillna(df['mouse_movement_score'].median())\n",
    "df['ip_risk_score'] = df['ip_risk_score'].fillna(df['ip_risk_score'].median())\n",
    "\n",
    "# 2. Group-based fill for avg_transaction_amount (by device_type)\n",
    "df['avg_transaction_amount'] = df.groupby('device_type')['avg_transaction_amount']\\\n",
    "                                 .transform(lambda x: x.fillna(x.median()))\n",
    "\n",
    "# 3. Fill geo_location with mode\n",
    "df['geo_location'] = df['geo_location'].fillna(df['geo_location'].mode()[0])\n"
   ]
  },
  {
   "cell_type": "code",
   "execution_count": 9,
   "id": "6ebe4998-3e19-438d-b867-4dc72491fabb",
   "metadata": {},
   "outputs": [
    {
     "data": {
      "text/plain": [
       "transaction_id    0\n",
       "user_id           0\n",
       "amount            0\n",
       "payment_method    0\n",
       "device_type       0\n",
       "dtype: int64"
      ]
     },
     "execution_count": 9,
     "metadata": {},
     "output_type": "execute_result"
    }
   ],
   "source": [
    "# Fill categorical nulls with mode\n",
    "for col in ['day_of_week', 'payment_method', 'device_type']:\n",
    "    df[col] = df[col].fillna(df[col].mode()[0])\n",
    "\n",
    "# Refill avg_transaction_amount using global median as fallback\n",
    "df['avg_transaction_amount'] = df['avg_transaction_amount'].fillna(df['avg_transaction_amount'].median())\n",
    "\n",
    "df.isnull().sum().sort_values(ascending=False).head()\n"
   ]
  },
  {
   "cell_type": "code",
   "execution_count": 10,
   "id": "e5e8f148-ccd3-40c5-8d5f-b30c7d3fc0ed",
   "metadata": {},
   "outputs": [
    {
     "name": "stdout",
     "output_type": "stream",
     "text": [
      "Encoded columns: ['payment_method', 'device_type', 'geo_location', 'day_of_week', 'region', 'country', 'timestamp', 'device_os', 'browser']\n"
     ]
    },
    {
     "data": {
      "text/html": [
       "<div>\n",
       "<style scoped>\n",
       "    .dataframe tbody tr th:only-of-type {\n",
       "        vertical-align: middle;\n",
       "    }\n",
       "\n",
       "    .dataframe tbody tr th {\n",
       "        vertical-align: top;\n",
       "    }\n",
       "\n",
       "    .dataframe thead th {\n",
       "        text-align: right;\n",
       "    }\n",
       "</style>\n",
       "<table border=\"1\" class=\"dataframe\">\n",
       "  <thead>\n",
       "    <tr style=\"text-align: right;\">\n",
       "      <th></th>\n",
       "      <th>payment_method</th>\n",
       "      <th>device_type</th>\n",
       "      <th>geo_location</th>\n",
       "      <th>day_of_week</th>\n",
       "      <th>region</th>\n",
       "      <th>country</th>\n",
       "      <th>timestamp</th>\n",
       "      <th>device_os</th>\n",
       "      <th>browser</th>\n",
       "    </tr>\n",
       "  </thead>\n",
       "  <tbody>\n",
       "    <tr>\n",
       "      <th>0</th>\n",
       "      <td>1</td>\n",
       "      <td>1</td>\n",
       "      <td>1</td>\n",
       "      <td>0</td>\n",
       "      <td>0</td>\n",
       "      <td>3</td>\n",
       "      <td>1388</td>\n",
       "      <td>0</td>\n",
       "      <td>2</td>\n",
       "    </tr>\n",
       "    <tr>\n",
       "      <th>1</th>\n",
       "      <td>4</td>\n",
       "      <td>2</td>\n",
       "      <td>0</td>\n",
       "      <td>6</td>\n",
       "      <td>2</td>\n",
       "      <td>3</td>\n",
       "      <td>1148</td>\n",
       "      <td>0</td>\n",
       "      <td>1</td>\n",
       "    </tr>\n",
       "    <tr>\n",
       "      <th>2</th>\n",
       "      <td>0</td>\n",
       "      <td>2</td>\n",
       "      <td>2</td>\n",
       "      <td>3</td>\n",
       "      <td>1</td>\n",
       "      <td>3</td>\n",
       "      <td>633</td>\n",
       "      <td>4</td>\n",
       "      <td>1</td>\n",
       "    </tr>\n",
       "    <tr>\n",
       "      <th>3</th>\n",
       "      <td>2</td>\n",
       "      <td>0</td>\n",
       "      <td>6</td>\n",
       "      <td>0</td>\n",
       "      <td>3</td>\n",
       "      <td>3</td>\n",
       "      <td>83</td>\n",
       "      <td>1</td>\n",
       "      <td>2</td>\n",
       "    </tr>\n",
       "    <tr>\n",
       "      <th>4</th>\n",
       "      <td>1</td>\n",
       "      <td>1</td>\n",
       "      <td>4</td>\n",
       "      <td>4</td>\n",
       "      <td>4</td>\n",
       "      <td>3</td>\n",
       "      <td>695</td>\n",
       "      <td>4</td>\n",
       "      <td>3</td>\n",
       "    </tr>\n",
       "  </tbody>\n",
       "</table>\n",
       "</div>"
      ],
      "text/plain": [
       "   payment_method  device_type  geo_location  day_of_week  region  country  \\\n",
       "0               1            1             1            0       0        3   \n",
       "1               4            2             0            6       2        3   \n",
       "2               0            2             2            3       1        3   \n",
       "3               2            0             6            0       3        3   \n",
       "4               1            1             4            4       4        3   \n",
       "\n",
       "   timestamp  device_os  browser  \n",
       "0       1388          0        2  \n",
       "1       1148          0        1  \n",
       "2        633          4        1  \n",
       "3         83          1        2  \n",
       "4        695          4        3  "
      ]
     },
     "execution_count": 10,
     "metadata": {},
     "output_type": "execute_result"
    }
   ],
   "source": [
    "from sklearn.preprocessing import LabelEncoder\n",
    "\n",
    "# Identify categorical columns\n",
    "cat_cols = df.select_dtypes(include='object').columns\n",
    "cat_cols = [col for col in cat_cols if col not in ['transaction_id']]  # exclude ID\n",
    "\n",
    "# Apply Label Encoding\n",
    "le = LabelEncoder()\n",
    "for col in cat_cols:\n",
    "    df[col] = le.fit_transform(df[col].astype(str))\n",
    "\n",
    "print(\"Encoded columns:\", cat_cols)\n",
    "df[cat_cols].head()\n"
   ]
  },
  {
   "cell_type": "code",
   "execution_count": 11,
   "id": "d642230f-eefb-4fbc-ba59-0c3f36f112a7",
   "metadata": {},
   "outputs": [
    {
     "name": "stdout",
     "output_type": "stream",
     "text": [
      "Train shape: (40000, 22)\n",
      "Test shape: (10000, 22)\n"
     ]
    }
   ],
   "source": [
    "from sklearn.model_selection import train_test_split\n",
    "\n",
    "# Drop ID columns\n",
    "df_model = df.drop(columns=['transaction_id', 'user_id'])\n",
    "\n",
    "# Define features and target\n",
    "X = df_model.drop('fraud_flag', axis=1)\n",
    "y = df_model['fraud_flag']\n",
    "\n",
    "# Split the data\n",
    "X_train, X_test, y_train, y_test = train_test_split(X, y, \n",
    "                                                    test_size=0.2, \n",
    "                                                    stratify=y, \n",
    "                                                    random_state=42)\n",
    "\n",
    "print(\"Train shape:\", X_train.shape)\n",
    "print(\"Test shape:\", X_test.shape)\n"
   ]
  },
  {
   "cell_type": "code",
   "execution_count": 12,
   "id": "18d9e57c-a3be-4177-801c-742e33e01bfb",
   "metadata": {},
   "outputs": [
    {
     "name": "stdout",
     "output_type": "stream",
     "text": [
      "✅ All processed files saved.\n"
     ]
    }
   ],
   "source": [
    "# Save the datasets\n",
    "X_train.to_csv('../data/processed/X_train.csv', index=False)\n",
    "X_test.to_csv('../data/processed/X_test.csv', index=False)\n",
    "y_train.to_csv('../data/processed/y_train.csv', index=False)\n",
    "y_test.to_csv('../data/processed/y_test.csv', index=False)\n",
    "\n",
    "print(\"✅ All processed files saved.\")\n"
   ]
  },
  {
   "cell_type": "code",
   "execution_count": null,
   "id": "36fd6154-77af-4375-bf9b-68cf532aac9a",
   "metadata": {},
   "outputs": [],
   "source": []
  }
 ],
 "metadata": {
  "kernelspec": {
   "display_name": "Python 3 (ipykernel)",
   "language": "python",
   "name": "python3"
  },
  "language_info": {
   "codemirror_mode": {
    "name": "ipython",
    "version": 3
   },
   "file_extension": ".py",
   "mimetype": "text/x-python",
   "name": "python",
   "nbconvert_exporter": "python",
   "pygments_lexer": "ipython3",
   "version": "3.10.0"
  }
 },
 "nbformat": 4,
 "nbformat_minor": 5
}
