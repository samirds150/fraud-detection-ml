{
 "cells": [
  {
   "cell_type": "code",
   "execution_count": 1,
   "id": "8d1b5f2b-cb39-43b3-a6a4-5238298f0bba",
   "metadata": {},
   "outputs": [],
   "source": [
    "import pandas as pd\n",
    "import matplotlib.pyplot as plt\n",
    "import seaborn as sns\n",
    "from sklearn.model_selection import train_test_split"
   ]
  },
  {
   "cell_type": "code",
   "execution_count": 2,
   "id": "ba2f9a16-7524-429a-894a-67cc519c60dd",
   "metadata": {},
   "outputs": [],
   "source": [
    "df = pd.read_csv('../data/raw/enhanced_fraud_detection_dataset.csv')\n"
   ]
  },
  {
   "cell_type": "code",
   "execution_count": 3,
   "id": "db808f98-41a9-47d5-b2b1-0ccc6284c801",
   "metadata": {},
   "outputs": [
    {
     "data": {
      "text/plain": [
       "(50000, 25)"
      ]
     },
     "execution_count": 3,
     "metadata": {},
     "output_type": "execute_result"
    }
   ],
   "source": [
    "df.shape"
   ]
  },
  {
   "cell_type": "code",
   "execution_count": 4,
   "id": "58e09a35-9f00-4016-80f0-24028264b4bd",
   "metadata": {},
   "outputs": [
    {
     "name": "stdout",
     "output_type": "stream",
     "text": [
      "<class 'pandas.core.frame.DataFrame'>\n",
      "RangeIndex: 50000 entries, 0 to 49999\n",
      "Data columns (total 25 columns):\n",
      " #   Column                    Non-Null Count  Dtype  \n",
      "---  ------                    --------------  -----  \n",
      " 0   transaction_id            50000 non-null  object \n",
      " 1   user_id                   50000 non-null  int64  \n",
      " 2   amount                    50000 non-null  float64\n",
      " 3   payment_method            47488 non-null  object \n",
      " 4   device_type               47504 non-null  object \n",
      " 5   mouse_movement_score      47533 non-null  float64\n",
      " 6   geo_location              45009 non-null  object \n",
      " 7   ip_risk_score             47549 non-null  float64\n",
      " 8   account_age_days          50000 non-null  int64  \n",
      " 9   time_of_day               50000 non-null  int64  \n",
      " 10  day_of_week               47464 non-null  object \n",
      " 11  num_prev_transactions     50000 non-null  int64  \n",
      " 12  avg_transaction_amount    47572 non-null  float64\n",
      " 13  is_international          50000 non-null  int64  \n",
      " 14  is_vpn                    50000 non-null  int64  \n",
      " 15  fraud_flag                50000 non-null  int64  \n",
      " 16  region                    50000 non-null  object \n",
      " 17  country                   50000 non-null  object \n",
      " 18  timestamp                 50000 non-null  object \n",
      " 19  session_duration_sec      50000 non-null  int64  \n",
      " 20  device_os                 50000 non-null  object \n",
      " 21  browser                   50000 non-null  object \n",
      " 22  suspicious_activity_flag  50000 non-null  int64  \n",
      " 23  login_attempts_last_hour  50000 non-null  int64  \n",
      " 24  is_blacklisted_user       50000 non-null  int64  \n",
      "dtypes: float64(4), int64(11), object(10)\n",
      "memory usage: 9.5+ MB\n"
     ]
    }
   ],
   "source": [
    "df.info()"
   ]
  },
  {
   "cell_type": "code",
   "execution_count": 5,
   "id": "0dff5f61-093c-4ccb-b89e-aa4d68425307",
   "metadata": {},
   "outputs": [
    {
     "data": {
      "text/html": [
       "<div>\n",
       "<style scoped>\n",
       "    .dataframe tbody tr th:only-of-type {\n",
       "        vertical-align: middle;\n",
       "    }\n",
       "\n",
       "    .dataframe tbody tr th {\n",
       "        vertical-align: top;\n",
       "    }\n",
       "\n",
       "    .dataframe thead th {\n",
       "        text-align: right;\n",
       "    }\n",
       "</style>\n",
       "<table border=\"1\" class=\"dataframe\">\n",
       "  <thead>\n",
       "    <tr style=\"text-align: right;\">\n",
       "      <th></th>\n",
       "      <th>transaction_id</th>\n",
       "      <th>user_id</th>\n",
       "      <th>amount</th>\n",
       "      <th>payment_method</th>\n",
       "      <th>device_type</th>\n",
       "      <th>mouse_movement_score</th>\n",
       "      <th>geo_location</th>\n",
       "      <th>ip_risk_score</th>\n",
       "      <th>account_age_days</th>\n",
       "      <th>time_of_day</th>\n",
       "      <th>...</th>\n",
       "      <th>fraud_flag</th>\n",
       "      <th>region</th>\n",
       "      <th>country</th>\n",
       "      <th>timestamp</th>\n",
       "      <th>session_duration_sec</th>\n",
       "      <th>device_os</th>\n",
       "      <th>browser</th>\n",
       "      <th>suspicious_activity_flag</th>\n",
       "      <th>login_attempts_last_hour</th>\n",
       "      <th>is_blacklisted_user</th>\n",
       "    </tr>\n",
       "  </thead>\n",
       "  <tbody>\n",
       "    <tr>\n",
       "      <th>0</th>\n",
       "      <td>txn_45089</td>\n",
       "      <td>3428</td>\n",
       "      <td>40.98</td>\n",
       "      <td>credit_card</td>\n",
       "      <td>mobile</td>\n",
       "      <td>0.44</td>\n",
       "      <td>Delhi</td>\n",
       "      <td>0.22</td>\n",
       "      <td>364</td>\n",
       "      <td>20</td>\n",
       "      <td>...</td>\n",
       "      <td>0</td>\n",
       "      <td>North</td>\n",
       "      <td>India</td>\n",
       "      <td>2025-02-27 20:00:00</td>\n",
       "      <td>368</td>\n",
       "      <td>Android</td>\n",
       "      <td>Firefox</td>\n",
       "      <td>0</td>\n",
       "      <td>6</td>\n",
       "      <td>0</td>\n",
       "    </tr>\n",
       "    <tr>\n",
       "      <th>1</th>\n",
       "      <td>txn_32802</td>\n",
       "      <td>4141</td>\n",
       "      <td>90.58</td>\n",
       "      <td>upi</td>\n",
       "      <td>tablet</td>\n",
       "      <td>0.71</td>\n",
       "      <td>Bangalore</td>\n",
       "      <td>0.12</td>\n",
       "      <td>1768</td>\n",
       "      <td>20</td>\n",
       "      <td>...</td>\n",
       "      <td>0</td>\n",
       "      <td>South</td>\n",
       "      <td>India</td>\n",
       "      <td>2025-02-17 20:00:00</td>\n",
       "      <td>385</td>\n",
       "      <td>Android</td>\n",
       "      <td>Edge</td>\n",
       "      <td>0</td>\n",
       "      <td>5</td>\n",
       "      <td>0</td>\n",
       "    </tr>\n",
       "    <tr>\n",
       "      <th>2</th>\n",
       "      <td>txn_3379</td>\n",
       "      <td>1123</td>\n",
       "      <td>26.75</td>\n",
       "      <td>bnpl</td>\n",
       "      <td>tablet</td>\n",
       "      <td>0.39</td>\n",
       "      <td>NaN</td>\n",
       "      <td>0.40</td>\n",
       "      <td>1487</td>\n",
       "      <td>9</td>\n",
       "      <td>...</td>\n",
       "      <td>0</td>\n",
       "      <td>Other</td>\n",
       "      <td>India</td>\n",
       "      <td>2025-01-27 09:00:00</td>\n",
       "      <td>341</td>\n",
       "      <td>iOS</td>\n",
       "      <td>Edge</td>\n",
       "      <td>0</td>\n",
       "      <td>6</td>\n",
       "      <td>0</td>\n",
       "    </tr>\n",
       "    <tr>\n",
       "      <th>3</th>\n",
       "      <td>txn_10978</td>\n",
       "      <td>2930</td>\n",
       "      <td>390.88</td>\n",
       "      <td>debit_card</td>\n",
       "      <td>desktop</td>\n",
       "      <td>0.24</td>\n",
       "      <td>Unknown</td>\n",
       "      <td>NaN</td>\n",
       "      <td>1634</td>\n",
       "      <td>11</td>\n",
       "      <td>...</td>\n",
       "      <td>0</td>\n",
       "      <td>Unknown</td>\n",
       "      <td>India</td>\n",
       "      <td>2025-01-04 11:00:00</td>\n",
       "      <td>512</td>\n",
       "      <td>Linux</td>\n",
       "      <td>Firefox</td>\n",
       "      <td>0</td>\n",
       "      <td>6</td>\n",
       "      <td>0</td>\n",
       "    </tr>\n",
       "    <tr>\n",
       "      <th>4</th>\n",
       "      <td>txn_7477</td>\n",
       "      <td>1656</td>\n",
       "      <td>51.67</td>\n",
       "      <td>credit_card</td>\n",
       "      <td>mobile</td>\n",
       "      <td>0.11</td>\n",
       "      <td>Mumbai</td>\n",
       "      <td>0.47</td>\n",
       "      <td>745</td>\n",
       "      <td>23</td>\n",
       "      <td>...</td>\n",
       "      <td>0</td>\n",
       "      <td>West</td>\n",
       "      <td>India</td>\n",
       "      <td>2025-01-29 23:00:00</td>\n",
       "      <td>61</td>\n",
       "      <td>iOS</td>\n",
       "      <td>Opera</td>\n",
       "      <td>0</td>\n",
       "      <td>3</td>\n",
       "      <td>0</td>\n",
       "    </tr>\n",
       "  </tbody>\n",
       "</table>\n",
       "<p>5 rows × 25 columns</p>\n",
       "</div>"
      ],
      "text/plain": [
       "  transaction_id  user_id  amount payment_method device_type  \\\n",
       "0      txn_45089     3428   40.98    credit_card      mobile   \n",
       "1      txn_32802     4141   90.58            upi      tablet   \n",
       "2       txn_3379     1123   26.75           bnpl      tablet   \n",
       "3      txn_10978     2930  390.88     debit_card     desktop   \n",
       "4       txn_7477     1656   51.67    credit_card      mobile   \n",
       "\n",
       "   mouse_movement_score geo_location  ip_risk_score  account_age_days  \\\n",
       "0                  0.44        Delhi           0.22               364   \n",
       "1                  0.71    Bangalore           0.12              1768   \n",
       "2                  0.39          NaN           0.40              1487   \n",
       "3                  0.24      Unknown            NaN              1634   \n",
       "4                  0.11       Mumbai           0.47               745   \n",
       "\n",
       "   time_of_day  ... fraud_flag   region  country            timestamp  \\\n",
       "0           20  ...          0    North    India  2025-02-27 20:00:00   \n",
       "1           20  ...          0    South    India  2025-02-17 20:00:00   \n",
       "2            9  ...          0    Other    India  2025-01-27 09:00:00   \n",
       "3           11  ...          0  Unknown    India  2025-01-04 11:00:00   \n",
       "4           23  ...          0     West    India  2025-01-29 23:00:00   \n",
       "\n",
       "   session_duration_sec  device_os  browser suspicious_activity_flag  \\\n",
       "0                   368    Android  Firefox                        0   \n",
       "1                   385    Android     Edge                        0   \n",
       "2                   341        iOS     Edge                        0   \n",
       "3                   512      Linux  Firefox                        0   \n",
       "4                    61        iOS    Opera                        0   \n",
       "\n",
       "  login_attempts_last_hour  is_blacklisted_user  \n",
       "0                        6                    0  \n",
       "1                        5                    0  \n",
       "2                        6                    0  \n",
       "3                        6                    0  \n",
       "4                        3                    0  \n",
       "\n",
       "[5 rows x 25 columns]"
      ]
     },
     "execution_count": 5,
     "metadata": {},
     "output_type": "execute_result"
    }
   ],
   "source": [
    "df.head()"
   ]
  },
  {
   "cell_type": "code",
   "execution_count": 15,
   "id": "591c3720-480e-4ac3-a15e-1f5c372ba815",
   "metadata": {},
   "outputs": [],
   "source": [
    "missing = df.isnull().sum()"
   ]
  },
  {
   "cell_type": "code",
   "execution_count": 10,
   "id": "60da65c7-4bbb-4962-a91e-1d5a6781ed32",
   "metadata": {},
   "outputs": [
    {
     "data": {
      "text/plain": [
       "fraud_flag\n",
       "0    97.0\n",
       "1     3.0\n",
       "Name: proportion, dtype: float64"
      ]
     },
     "execution_count": 10,
     "metadata": {},
     "output_type": "execute_result"
    }
   ],
   "source": [
    "df['fraud_flag'].value_counts(normalize=True)*100"
   ]
  },
  {
   "cell_type": "code",
   "execution_count": 12,
   "id": "dc04002c-3a3a-475a-88ac-b7342c69cdc1",
   "metadata": {},
   "outputs": [
    {
     "data": {
      "image/png": "[encoded data removed]",
      "text/plain": [
       "<Figure size 640x480 with 1 Axes>"
      ]
     },
     "metadata": {},
     "output_type": "display_data"
    }
   ],
   "source": [
    "sns.countplot(data=df, x='fraud_flag')\n",
    "plt.title('Fraud vs Non-Fraud Distribution')\n",
    "plt.xlabel('Fraud Flag (0 = Not Fraud, 1 = Fraud)')\n",
    "plt.ylabel('Number of Transactions')\n",
    "plt.show()"
   ]
  },
  {
   "cell_type": "code",
   "execution_count": 13,
   "id": "e4e7d601-2daf-46b7-9b98-723af366ce49",
   "metadata": {},
   "outputs": [],
   "source": [
    "missing_percent = (df.isnull().sum()/len(df))*100"
   ]
  },
  {
   "cell_type": "code",
   "execution_count": 14,
   "id": "53073daa-7f7e-449c-a3f9-d6e487630b9d",
   "metadata": {},
   "outputs": [
    {
     "data": {
      "text/plain": [
       "transaction_id              0.000\n",
       "user_id                     0.000\n",
       "amount                      0.000\n",
       "payment_method              5.024\n",
       "device_type                 4.992\n",
       "mouse_movement_score        4.934\n",
       "geo_location                9.982\n",
       "ip_risk_score               4.902\n",
       "account_age_days            0.000\n",
       "time_of_day                 0.000\n",
       "day_of_week                 5.072\n",
       "num_prev_transactions       0.000\n",
       "avg_transaction_amount      4.856\n",
       "is_international            0.000\n",
       "is_vpn                      0.000\n",
       "fraud_flag                  0.000\n",
       "region                      0.000\n",
       "country                     0.000\n",
       "timestamp                   0.000\n",
       "session_duration_sec        0.000\n",
       "device_os                   0.000\n",
       "browser                     0.000\n",
       "suspicious_activity_flag    0.000\n",
       "login_attempts_last_hour    0.000\n",
       "is_blacklisted_user         0.000\n",
       "dtype: float64"
      ]
     },
     "execution_count": 14,
     "metadata": {},
     "output_type": "execute_result"
    }
   ],
   "source": [
    "missing_percent"
   ]
  },
  {
   "cell_type": "code",
   "execution_count": 16,
   "id": "b380b0f0-08d8-4de6-bc25-dc27de557f5b",
   "metadata": {},
   "outputs": [],
   "source": [
    "missing_df = pd.DataFrame({'missing_value':missing, 'missing_value_%': missing_percent}).sort_values(by = \"missing_value_%\", ascending=False)"
   ]
  },
  {
   "cell_type": "code",
   "execution_count": 19,
   "id": "7ca2eed2-5362-4182-8271-025c90bf4a2e",
   "metadata": {},
   "outputs": [
    {
     "data": {
      "text/html": [
       "<div>\n",
       "<style scoped>\n",
       "    .dataframe tbody tr th:only-of-type {\n",
       "        vertical-align: middle;\n",
       "    }\n",
       "\n",
       "    .dataframe tbody tr th {\n",
       "        vertical-align: top;\n",
       "    }\n",
       "\n",
       "    .dataframe thead th {\n",
       "        text-align: right;\n",
       "    }\n",
       "</style>\n",
       "<table border=\"1\" class=\"dataframe\">\n",
       "  <thead>\n",
       "    <tr style=\"text-align: right;\">\n",
       "      <th></th>\n",
       "      <th>missing_value</th>\n",
       "      <th>missing_value_%</th>\n",
       "    </tr>\n",
       "  </thead>\n",
       "  <tbody>\n",
       "    <tr>\n",
       "      <th>geo_location</th>\n",
       "      <td>4991</td>\n",
       "      <td>9.982</td>\n",
       "    </tr>\n",
       "    <tr>\n",
       "      <th>day_of_week</th>\n",
       "      <td>2536</td>\n",
       "      <td>5.072</td>\n",
       "    </tr>\n",
       "    <tr>\n",
       "      <th>payment_method</th>\n",
       "      <td>2512</td>\n",
       "      <td>5.024</td>\n",
       "    </tr>\n",
       "    <tr>\n",
       "      <th>device_type</th>\n",
       "      <td>2496</td>\n",
       "      <td>4.992</td>\n",
       "    </tr>\n",
       "    <tr>\n",
       "      <th>mouse_movement_score</th>\n",
       "      <td>2467</td>\n",
       "      <td>4.934</td>\n",
       "    </tr>\n",
       "    <tr>\n",
       "      <th>ip_risk_score</th>\n",
       "      <td>2451</td>\n",
       "      <td>4.902</td>\n",
       "    </tr>\n",
       "    <tr>\n",
       "      <th>avg_transaction_amount</th>\n",
       "      <td>2428</td>\n",
       "      <td>4.856</td>\n",
       "    </tr>\n",
       "  </tbody>\n",
       "</table>\n",
       "</div>"
      ],
      "text/plain": [
       "                        missing_value  missing_value_%\n",
       "geo_location                     4991            9.982\n",
       "day_of_week                      2536            5.072\n",
       "payment_method                   2512            5.024\n",
       "device_type                      2496            4.992\n",
       "mouse_movement_score             2467            4.934\n",
       "ip_risk_score                    2451            4.902\n",
       "avg_transaction_amount           2428            4.856"
      ]
     },
     "execution_count": 19,
     "metadata": {},
     "output_type": "execute_result"
    }
   ],
   "source": [
    "missing_df[missing_df['missing_value']>0]"
   ]
  },
  {
   "cell_type": "code",
   "execution_count": 37,
   "id": "0ab31d74-489a-457a-97ea-61fe80a52640",
   "metadata": {},
   "outputs": [
    {
     "name": "stdout",
     "output_type": "stream",
     "text": [
      "transaction_id ['txn_45089' 'txn_32802' 'txn_3379' ... 'txn_32353' 'txn_30848'\n",
      " 'txn_40526']\n",
      "user_id [3428 4141 1123 ... 3408 2170 4566]\n",
      "amount [ 40.98  90.58  26.75 ... 229.07 222.44 183.08]\n",
      "payment_method ['credit_card' 'upi' 'bnpl' 'debit_card' 'wallet' 'net_banking' nan]\n",
      "device_type ['mobile' 'tablet' 'desktop' nan]\n",
      "mouse_movement_score [0.44 0.71 0.39 0.24 0.11 0.13 0.12 0.38  nan 0.14 0.08 0.55 0.31 0.46\n",
      " 0.29 0.25 0.16 0.3  0.23 0.22 0.2  0.19 0.54 0.15 0.07 0.32 0.28 0.52\n",
      " 0.51 0.21 0.49 0.35 0.5  0.43 0.57 0.17 0.18 0.09 0.33 0.4  0.72 0.1\n",
      " 0.45 0.58 0.34 0.02 0.41 0.36 0.26 0.37 0.47 0.05 0.63 0.27 0.01 0.03\n",
      " 0.53 0.06 0.42 0.48 0.62 0.04 0.6  0.73 0.56 0.61 0.69 0.65 0.64 0.8\n",
      " 0.78 0.59 0.89 0.68 0.67 0.7  0.75 0.76 0.82 0.74 0.66 0.   0.77 0.85\n",
      " 0.79 0.81 0.84 0.93 0.83 0.87 0.86 0.9 ]\n",
      "geo_location ['Delhi' 'Bangalore' nan 'Unknown' 'Mumbai' 'London' 'Dubai' 'New York']\n",
      "ip_risk_score [0.22 0.12 0.4   nan 0.47 0.93 0.33 0.68 0.91 0.97 0.04 0.37 0.05 0.78\n",
      " 0.87 0.19 0.15 0.08 0.61 0.96 0.13 0.7  0.26 0.74 0.2  0.75 0.   0.72\n",
      " 0.77 0.07 0.94 0.65 0.79 0.27 0.29 0.11 0.39 0.18 0.76 0.34 0.83 0.46\n",
      " 0.41 0.23 0.28 0.95 0.71 0.8  0.1  0.17 0.24 0.59 0.38 0.56 0.84 0.21\n",
      " 0.36 0.44 0.31 0.52 0.14 0.49 0.86 0.62 0.55 0.5  0.57 0.01 0.92 0.66\n",
      " 0.02 0.69 0.58 0.42 0.67 0.25 0.53 0.89 0.81 0.51 0.6  0.06 0.09 0.3\n",
      " 0.88 0.43 0.82 0.9  0.63 1.   0.64 0.45 0.35 0.03 0.48 0.99 0.32 0.54\n",
      " 0.98 0.16 0.73 0.85]\n",
      "account_age_days [ 364 1768 1487 ...  246  124 1764]\n",
      "time_of_day [20  9 11 23 17  5 18 10  4  8 13  3 12 15 16  6  0 14 21  1  2  7 22 19]\n",
      "day_of_week ['Friday' 'Wednesday' 'Sunday' 'Thursday' nan 'Tuesday' 'Saturday'\n",
      " 'Monday']\n",
      "num_prev_transactions [11  6  8 10 12 13 14 17  7  9  5 15 18  4 16 19 23 20  3  2 21 22 25  1\n",
      " 24  0 26]\n",
      "avg_transaction_amount [108.06  63.89  76.62 ...  49.15  44.69 133.48]\n",
      "is_international [0 1]\n",
      "is_vpn [1 0]\n",
      "fraud_flag [0 1]\n",
      "region ['North' 'South' 'Other' 'Unknown' 'West']\n",
      "country ['India' 'Canada' 'Germany' 'USA' 'Australia' 'UAE' 'UK']\n",
      "timestamp ['2025-02-27 20:00:00' '2025-02-17 20:00:00' '2025-01-27 09:00:00' ...\n",
      " '2025-01-22 15:00:00' '2025-02-12 11:00:00' '2025-01-03 13:00:00']\n",
      "session_duration_sec [368 385 341 512  61 122 551  63 318 373 537 342 233 251 458  31 536 491\n",
      " 212  88 125 534 240 487  58 232 141 394 152 332 599 284 258 370 594 371\n",
      " 367 287  89 369 461 147  55 200 282 561 378 333 406 380 180 259 365 304\n",
      " 257 298 208 286 544  37  69 460 359 272 194 509 312 124 160 238 570 510\n",
      " 553 554 393 452 242 198 237 456 550  48 515 116 559 266 203 133 590 131\n",
      " 167  67 420 446  53 316 111 564 356 527 428 579 185 156 306  56 597  50\n",
      " 555 270 136 569 250  96 271 425 249 448 255 243 388 530 500 344 521 113\n",
      "  73 190 337 146 354  34 450 100  85 336 525 199 170 447  82  32 178 535\n",
      " 330 162 288 305  90 176 445 123 127 216 583 454 568 556 514 459 161 153\n",
      " 416 469 401 120 576 181 329 384 592 221 439 386 273  87 256 598 155 319\n",
      " 528 501  51 186 291 139 395  42  92 382 117 179 121 174 204 489 164  70\n",
      " 275 488 581 502 218  77 119 552 517 574 209 145  57 144 423  95 130 381\n",
      " 205 301  78 383  66 573 538 347 183 325 560 295 280 548 226 115 210 578\n",
      "  68 571 584 235 467 462 540 516 419 326 541 254 239 532 591 360 421 542\n",
      " 480 154 340 437 387 302 539  41 172 196 135 265 438 389 262 137 483 404\n",
      " 267 276 415 106 472 379 290 492 477  91 407  86 315 485 484 222 151 508\n",
      " 132  43 596 499 134 519 355 396 588 349 104 410 327 334  59 220 157 285\n",
      " 296  80 217  33 372  60 231  72 114 435 348 289 366 320 411 193 529 586\n",
      " 169 522 357 184  36  74 234 230 279 241  98 558 361 474 166 465 543 412\n",
      " 293 422 523 595 252 129 118  76 546 229 463 440 408 177 248 206 495 192\n",
      " 313 511  35  79 471  75 246 375 434  54 531 351 493 335 436 126 580 112\n",
      " 442 150 128 245 432 264 253 214 350 244 520 297 392 140 353  52 191 496\n",
      " 549  62 207 413 426 236 317 142 294 299 328  93 518 565 399 138 321 593\n",
      " 213 566 449 310 402  40 228 498 506 473 391 281 189 110 497 187 504 441\n",
      " 173  39 507 557  84 363 309 376 503 339 269 105 346 577 582 195 443 478\n",
      " 358 215 149 323 390 545 562  81 431 585 314 227 224 308 260 513 292 197\n",
      " 451 563 526 362 171 397 405 159 101 482 403  94  71 400 263 261 175 225\n",
      " 278 102 481 201 424 168 475 479  46 587 107 158 457  38 311 274 163 322\n",
      " 182 464 277 466 108 303 455 307 331  97 589 547 486 476  45 414 188 343\n",
      "  47  30  65 418 165 398 444 377  99 429 352  44 470 109 468 324 567 505\n",
      " 283 409 268 338 364 494  83 430 427 211 433 490 223 417 533 453 300 374\n",
      " 103 148 202 524 143 219 247 345 572  64 575  49]\n",
      "device_os ['Android' 'iOS' 'Linux' 'macOS' 'Windows' 'Unknown']\n",
      "browser ['Firefox' 'Edge' 'Opera' 'Safari' 'Chrome']\n",
      "suspicious_activity_flag [0 1]\n",
      "login_attempts_last_hour [6 5 3 2 9 4 8 1 7]\n",
      "is_blacklisted_user [0 1]\n"
     ]
    }
   ],
   "source": [
    "for col in df.columns:\n",
    "    print(col, df[col].unique())"
   ]
  },
  {
   "cell_type": "code",
   "execution_count": null,
   "id": "ceb2b698-8f4d-4051-be62-3308cf314683",
   "metadata": {},
   "outputs": [],
   "source": []
  }
 ],
 "metadata": {
  "kernelspec": {
   "display_name": "Python 3 (ipykernel)",
   "language": "python",
   "name": "python3"
  },
  "language_info": {
   "codemirror_mode": {
    "name": "ipython",
    "version": 3
   },
   "file_extension": ".py",
   "mimetype": "text/x-python",
   "name": "python",
   "nbconvert_exporter": "python",
   "pygments_lexer": "ipython3",
   "version": "3.10.0"
  }
 },
 "nbformat": 4,
 "nbformat_minor": 5
}
