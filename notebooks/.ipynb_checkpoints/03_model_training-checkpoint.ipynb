{
 "cells": [
  {
   "cell_type": "code",
   "execution_count": 1,
   "id": "f1e86c06-31a7-4076-9a23-7b7dbb062f15",
   "metadata": {},
   "outputs": [
    {
     "data": {
      "text/plain": [
       "((40000, 22), (10000, 22))"
      ]
     },
     "execution_count": 1,
     "metadata": {},
     "output_type": "execute_result"
    }
   ],
   "source": [
    "import pandas as pd\n",
    "from sklearn.ensemble import RandomForestClassifier\n",
    "from sklearn.metrics import classification_report, confusion_matrix, roc_auc_score\n",
    "import matplotlib.pyplot as plt\n",
    "import seaborn as sns\n",
    "\n",
    "# Load processed data\n",
    "X_train = pd.read_csv('../data/processed/X_train.csv')\n",
    "X_test = pd.read_csv('../data/processed/X_test.csv')\n",
    "y_train = pd.read_csv('../data/processed/y_train.csv').values.ravel()\n",
    "y_test = pd.read_csv('../data/processed/y_test.csv').values.ravel()\n",
    "\n",
    "X_train.shape, X_test.shape\n"
   ]
  },
  {
   "cell_type": "code",
   "execution_count": 2,
   "id": "b11c471a-545a-461a-9bf8-6e8125bd630e",
   "metadata": {},
   "outputs": [],
   "source": [
    "from sklearn.ensemble import RandomForestClassifier\n",
    "\n",
    "# Initialize the model\n",
    "rf_model = RandomForestClassifier(\n",
    "    n_estimators=100,\n",
    "    random_state=42,\n",
    "    class_weight='balanced_subsample'  # helps a bit with imbalance\n",
    ")\n",
    "\n",
    "# Fit the model\n",
    "rf_model.fit(X_train, y_train)\n",
    "\n",
    "# Predict\n",
    "y_pred = rf_model.predict(X_test)\n",
    "y_prob = rf_model.predict_proba(X_test)[:, 1]  # for ROC AUC\n"
   ]
  },
  {
   "cell_type": "code",
   "execution_count": 3,
   "id": "00e39e79-8f5d-47b7-9342-56cbf8dfc79f",
   "metadata": {},
   "outputs": [
    {
     "name": "stdout",
     "output_type": "stream",
     "text": [
      "Classification Report:\n",
      "               precision    recall  f1-score   support\n",
      "\n",
      "           0       0.97      1.00      0.98      9700\n",
      "           1       0.00      0.00      0.00       300\n",
      "\n",
      "    accuracy                           0.97     10000\n",
      "   macro avg       0.48      0.50      0.49     10000\n",
      "weighted avg       0.94      0.97      0.96     10000\n",
      "\n",
      "Confusion Matrix:\n",
      " [[9700    0]\n",
      " [ 300    0]]\n",
      "ROC AUC Score: 0.5331262886597938\n"
     ]
    },
    {
     "name": "stderr",
     "output_type": "stream",
     "text": [
      "E:\\Interview projects\\fraud_detection_project\\env\\lib\\site-packages\\sklearn\\metrics\\_classification.py:1565: UndefinedMetricWarning: Precision is ill-defined and being set to 0.0 in labels with no predicted samples. Use `zero_division` parameter to control this behavior.\n",
      "  _warn_prf(average, modifier, f\"{metric.capitalize()} is\", len(result))\n",
      "E:\\Interview projects\\fraud_detection_project\\env\\lib\\site-packages\\sklearn\\metrics\\_classification.py:1565: UndefinedMetricWarning: Precision is ill-defined and being set to 0.0 in labels with no predicted samples. Use `zero_division` parameter to control this behavior.\n",
      "  _warn_prf(average, modifier, f\"{metric.capitalize()} is\", len(result))\n",
      "E:\\Interview projects\\fraud_detection_project\\env\\lib\\site-packages\\sklearn\\metrics\\_classification.py:1565: UndefinedMetricWarning: Precision is ill-defined and being set to 0.0 in labels with no predicted samples. Use `zero_division` parameter to control this behavior.\n",
      "  _warn_prf(average, modifier, f\"{metric.capitalize()} is\", len(result))\n"
     ]
    }
   ],
   "source": [
    "from sklearn.metrics import classification_report, confusion_matrix, roc_auc_score\n",
    "\n",
    "# Evaluation\n",
    "print(\"Classification Report:\\n\", classification_report(y_test, y_pred))\n",
    "print(\"Confusion Matrix:\\n\", confusion_matrix(y_test, y_pred))\n",
    "print(\"ROC AUC Score:\", roc_auc_score(y_test, y_prob))\n"
   ]
  },
  {
   "cell_type": "code",
   "execution_count": 6,
   "id": "0d3424b9-9f15-4d49-a752-fa6ce79e3124",
   "metadata": {},
   "outputs": [
    {
     "name": "stdout",
     "output_type": "stream",
     "text": [
      "Class distribution after SMOTE: Counter({np.int64(0): 38800, np.int64(1): 38800})\n"
     ]
    }
   ],
   "source": [
    "from imblearn.over_sampling import SMOTE\n",
    "from collections import Counter\n",
    "\n",
    "# Apply SMOTE\n",
    "smote = SMOTE(random_state=42)\n",
    "X_train_resampled, y_train_resampled = smote.fit_resample(X_train, y_train)\n",
    "\n",
    "print(\"Class distribution after SMOTE:\", Counter(y_train_resampled))\n"
   ]
  },
  {
   "cell_type": "code",
   "execution_count": 7,
   "id": "3c5b8840-fda3-451b-adc1-432a1a7b6792",
   "metadata": {},
   "outputs": [],
   "source": [
    "rf_model_smote = RandomForestClassifier(\n",
    "    n_estimators=100,\n",
    "    random_state=42\n",
    ")\n",
    "\n",
    "rf_model_smote.fit(X_train_resampled, y_train_resampled)\n",
    "\n",
    "# Predict again\n",
    "y_pred_smote = rf_model_smote.predict(X_test)\n",
    "y_prob_smote = rf_model_smote.predict_proba(X_test)[:, 1]\n"
   ]
  },
  {
   "cell_type": "code",
   "execution_count": 8,
   "id": "577a4499-092d-4ac7-88d3-33b712ef4037",
   "metadata": {},
   "outputs": [
    {
     "name": "stdout",
     "output_type": "stream",
     "text": [
      "Classification Report (SMOTE):\n",
      "               precision    recall  f1-score   support\n",
      "\n",
      "           0       0.97      0.97      0.97      9700\n",
      "           1       0.03      0.03      0.03       300\n",
      "\n",
      "    accuracy                           0.94     10000\n",
      "   macro avg       0.50      0.50      0.50     10000\n",
      "weighted avg       0.94      0.94      0.94     10000\n",
      "\n",
      "Confusion Matrix (SMOTE):\n",
      " [[9409  291]\n",
      " [ 290   10]]\n",
      "ROC AUC Score (SMOTE): 0.5172367697594502\n"
     ]
    }
   ],
   "source": [
    "print(\"Classification Report (SMOTE):\\n\", classification_report(y_test, y_pred_smote))\n",
    "print(\"Confusion Matrix (SMOTE):\\n\", confusion_matrix(y_test, y_pred_smote))\n",
    "print(\"ROC AUC Score (SMOTE):\", roc_auc_score(y_test, y_prob_smote))\n"
   ]
  },
  {
   "cell_type": "code",
   "execution_count": null,
   "id": "982de31d-8772-45c4-9e4c-9df4acbbfc16",
   "metadata": {},
   "outputs": [],
   "source": []
  }
 ],
 "metadata": {
  "kernelspec": {
   "display_name": "Python 3 (ipykernel)",
   "language": "python",
   "name": "python3"
  },
  "language_info": {
   "codemirror_mode": {
    "name": "ipython",
    "version": 3
   },
   "file_extension": ".py",
   "mimetype": "text/x-python",
   "name": "python",
   "nbconvert_exporter": "python",
   "pygments_lexer": "ipython3",
   "version": "3.10.0"
  }
 },
 "nbformat": 4,
 "nbformat_minor": 5
}
